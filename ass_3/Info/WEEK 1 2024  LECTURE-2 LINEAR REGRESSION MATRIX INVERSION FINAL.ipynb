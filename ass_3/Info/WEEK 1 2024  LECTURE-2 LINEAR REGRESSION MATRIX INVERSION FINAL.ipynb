{
 "cells": [
  {
   "cell_type": "markdown",
   "id": "c953b0e7-3e24-40b4-855e-9724783d9987",
   "metadata": {},
   "source": [
    "# Lab 2- Matrix Inversion (Linear and Polynomial Data Modeling) and Model Performance Analysis"
   ]
  },
  {
   "cell_type": "code",
   "execution_count": 2,
   "id": "564fc194-360b-40b6-8537-616c43bd25d7",
   "metadata": {},
   "outputs": [],
   "source": [
    "# import libraries\n",
    "import pandas as pd\n",
    "import numpy as np\n",
    "import matplotlib.pyplot as plt"
   ]
  },
  {
   "cell_type": "code",
   "execution_count": 3,
   "id": "30527066",
   "metadata": {},
   "outputs": [],
   "source": [
    "# Linear regression\n",
    " # y = beta_0 + beta_1*x"
   ]
  },
  {
   "cell_type": "code",
   "execution_count": 4,
   "id": "98bb1a69-b30f-4731-8557-c90ceeef3b02",
   "metadata": {},
   "outputs": [
    {
     "name": "stdout",
     "output_type": "stream",
     "text": [
      "Matrix A = [[ 10.          50.        ]\n",
      " [ 50.         351.85185185]]\n",
      "Matrix B = [[130.       ]\n",
      " [853.7037037]]\n",
      "Intercept and Slope = [[3.]\n",
      " [2.]]\n"
     ]
    }
   ],
   "source": [
    "# Generate data \n",
    "x = np.linspace(0, 10,10)\n",
    "#x = np.array(range(101))\n",
    "alfa = 0.00\n",
    "y = 3 + 2*x + alfa*np.random.random(len(x))\n",
    "\n",
    "# Generate matrix\n",
    "A = np.array([[len(x), np.sum(x)],\n",
    "              [np.sum(x), np.sum(x*x)]])\n",
    "B = np.array([[np.sum(y)],\n",
    "              [np.sum(x*y)]])\n",
    "\n",
    "C = np.dot(np.linalg.inv(A),B)\n",
    "# Display the matrix\n",
    "print('Matrix A =',A)\n",
    "print('Matrix B =',B)\n",
    "print('Intercept and Slope =',C)"
   ]
  },
  {
   "cell_type": "code",
   "execution_count": 5,
   "id": "ff65570c-5244-494a-81c7-bbea3053229d",
   "metadata": {},
   "outputs": [
    {
     "name": "stdout",
     "output_type": "stream",
     "text": [
      "1.0\n"
     ]
    }
   ],
   "source": [
    "# Model Accuracy Performance Analysis\n",
    "\n",
    "intercept = C[0]\n",
    "slope = C[1]\n",
    "input = x\n",
    "output = y\n",
    "\n",
    "def R_Squared(input,output,intercept,slope):\n",
    "    prediction = slope*x + intercept\n",
    "    \n",
    "    residual = output - prediction\n",
    "    \n",
    "    RES = (residual*residual).sum()\n",
    "    \n",
    "    REST = output - output.mean()\n",
    "    \n",
    "    TOT = (REST*REST).sum()\n",
    "    \n",
    "    return (1 - RES/TOT)\n",
    "print(R_Squared(input, output, intercept, slope))"
   ]
  },
  {
   "cell_type": "code",
   "execution_count": 6,
   "id": "4403e4d3-f94b-4277-b834-7a2493f0be6b",
   "metadata": {},
   "outputs": [
    {
     "data": {
      "text/plain": [
       "<matplotlib.legend.Legend at 0x14aa1ea3790>"
      ]
     },
     "execution_count": 6,
     "metadata": {},
     "output_type": "execute_result"
    },
    {
     "data": {
      "image/png": "[encoded data removed]",
      "text/plain": [
       "<Figure size 640x480 with 1 Axes>"
      ]
     },
     "metadata": {},
     "output_type": "display_data"
    }
   ],
   "source": [
    "# Display Results, line (Data, x, and y) and Scatter ( x, and model predicted)\n",
    "plt.plot(x,y, '-r') # Data\n",
    "plt.scatter(x,C[0] + C[1]*x)  # Model Prediction\n",
    "plt.legend([ 'Data', 'Model Prediction'], loc = 'upper left')"
   ]
  },
  {
   "cell_type": "code",
   "execution_count": null,
   "id": "c6e57572-f691-4680-87dc-a21aa3d8c5dc",
   "metadata": {},
   "outputs": [],
   "source": []
  },
  {
   "cell_type": "code",
   "execution_count": 7,
   "id": "5a555584",
   "metadata": {},
   "outputs": [
    {
     "name": "stdout",
     "output_type": "stream",
     "text": [
      "\n",
      "[[  50.          360.25748272]\n",
      " [ 360.25748272 3496.261206  ]]\n",
      "[[ 8314.74483171]\n",
      " [59908.98085139]]\n",
      "[[166.29489663]\n",
      " [  0.        ]]\n"
     ]
    }
   ],
   "source": [
    "import pandas as pd\n",
    "import numpy as np\n",
    "import matplotlib.pyplot as plt\n",
    "\n",
    "df = pd.read_excel('LectureLinearRegression.xlsx')\n",
    "\n",
    "x = np.array(df['x'])\n",
    "y= np.array(df['y'])\n",
    "\n",
    "print()\n",
    "\n",
    "\n",
    "# Import required package\n",
    "import numpy as np\n",
    " \n",
    "# Taking a 2 * 2 matrix\n",
    "A = np.array([[len(x), np.sum(x)],\n",
    "              [np.sum(x), np.sum(x*x)]])\n",
    "             \n",
    "   \n",
    "B = np.array([[np.sum(y)],\n",
    "              [np.sum(x*y)]])\n",
    "             \n",
    "\n",
    "C = np.dot(np.linalg.inv(A),B)\n",
    "\n",
    "\n",
    "print(A)\n",
    "print(B)\n",
    "print(C)\n"
   ]
  },
  {
   "cell_type": "code",
   "execution_count": null,
   "id": "4891eb96-7ece-4c85-b4b7-b6f0751020b8",
   "metadata": {},
   "outputs": [],
   "source": []
  },
  {
   "cell_type": "code",
   "execution_count": null,
   "id": "48f4affa-1704-4f98-b43d-5a12f886ff2c",
   "metadata": {},
   "outputs": [],
   "source": []
  },
  {
   "cell_type": "code",
   "execution_count": 8,
   "id": "dd86f093-d682-4e9f-8c29-5399954b99c1",
   "metadata": {},
   "outputs": [
    {
     "name": "stdout",
     "output_type": "stream",
     "text": [
      "[[5.00000000e+01 3.60257483e+02 3.49626121e+03]\n",
      " [3.60257483e+02 3.49626121e+03 3.81683109e+04]\n",
      " [3.49626121e+03 3.81683109e+04 4.44442884e+05]]\n",
      "[[  8314.74483171]\n",
      " [ 59908.98085139]\n",
      " [517839.98275462]]\n",
      "[[ 1.36424205e-12]\n",
      " [ 7.06825181e+01]\n",
      " [-4.90500000e+00]]\n"
     ]
    }
   ],
   "source": [
    "import pandas as pd\n",
    "import numpy as np\n",
    "import matplotlib.pyplot as plt\n",
    "\n",
    "#df = pd.read_excel('LectureLinearRegression.xlsx')\n",
    "#x = np.array(df['x '])+ alfa*np.random.random(len(y))\n",
    "#y= np.array(df['y'])\n",
    "\n",
    "#alfa = 0\n",
    "#x = df['x'] + alfa*np.random.random(len(y))\n",
    "#y= df['y']\n",
    "\n",
    "# Case 2: Generate Data\n",
    "uo = 100\n",
    "angle = 45\n",
    "rad = 3.14*angle/180\n",
    "\n",
    "x = np.linspace(0, 2*uo*np.sin(rad)/9.81)\n",
    "y = uo*np.sin(rad)*x- 0.5*9.81*x**2\n",
    "\n",
    "\n",
    "# Generate a 3 * 3 matrix\n",
    "A = np.array([[len(x), np.sum(x), np.sum(x*x)],\n",
    "              [np.sum(x), np.sum(x*x),np.sum(x*x*x)],\n",
    "              [np.sum(x*x), np.sum(x*x*x), np.sum(x*x*x*x)]])\n",
    " \n",
    "B = np.array([[np.sum(y)],\n",
    "              [np.sum(x*y)],\n",
    "             [np.sum(x*x*y)]])\n",
    "\n",
    "C = np.dot(np.linalg.inv(A),B)\n",
    "\n",
    "print(A)\n",
    "print(B)\n",
    "print(C)"
   ]
  },
  {
   "cell_type": "code",
   "execution_count": 9,
   "id": "eee58a02-0f6c-480d-a8c3-4560b6664570",
   "metadata": {},
   "outputs": [
    {
     "data": {
      "text/plain": [
       "<matplotlib.collections.PathCollection at 0x14aa44fa290>"
      ]
     },
     "execution_count": 9,
     "metadata": {},
     "output_type": "execute_result"
    },
    {
     "data": {
      "image/png": "[encoded data removed]",
      "text/plain": [
       "<Figure size 640x480 with 1 Axes>"
      ]
     },
     "metadata": {},
     "output_type": "display_data"
    }
   ],
   "source": [
    "# Display\n",
    "\n",
    "plt.plot(x, C[0] + C[1]*x + C[2]*x**2, 'r--')\n",
    "plt.scatter(x,y)\n"
   ]
  },
  {
   "cell_type": "code",
   "execution_count": 10,
   "id": "a31b3c69-22fa-4c3c-928a-e0b826d5a362",
   "metadata": {},
   "outputs": [
    {
     "name": "stdout",
     "output_type": "stream",
     "text": [
      "1.0\n"
     ]
    }
   ],
   "source": [
    "# Model Perofrmance analysis\n",
    "\n",
    "input = x\n",
    "output = y\n",
    "\n",
    "intercept = C[0]\n",
    "coef1 = C[1]\n",
    "coef2 = C[2]\n",
    "\n",
    "def r2(input, output, intercept, coef1, coef2):\n",
    "    prediction = intercept + coef1*x + coef2*x**2\n",
    "    residual = output - prediction\n",
    "    RST = (residual*residual).sum()\n",
    "    RSST = output - output.mean()\n",
    "    TOS = (RSST*RSST).sum()\n",
    "    return 1-RST/TOS\n",
    "print(r2(x, y, intercept, coef1, coef2))"
   ]
  },
  {
   "cell_type": "code",
   "execution_count": null,
   "id": "249596ef-84a3-42a7-8f8f-0a2724208593",
   "metadata": {},
   "outputs": [],
   "source": []
  },
  {
   "cell_type": "code",
   "execution_count": 11,
   "id": "595a9941-6251-471b-97bf-421f7479791c",
   "metadata": {},
   "outputs": [],
   "source": [
    "# Library- Sklearn....Scikit Learn"
   ]
  },
  {
   "cell_type": "code",
   "execution_count": 12,
   "id": "d7ddf669-f5a1-4c91-b27f-cb14110de2e0",
   "metadata": {},
   "outputs": [],
   "source": [
    "import pandas as pd\n",
    "import numpy as np\n",
    "import matplotlib.pyplot as plt\n",
    "from sklearn.model_selection import train_test_split\n",
    "from sklearn.linear_model import LinearRegression # has .fit() to fit model and compute coeff. and .predict () to pred y for xtest\n",
    "from sklearn.metrics import mean_squared_error, r2_score"
   ]
  },
  {
   "cell_type": "code",
   "execution_count": 13,
   "id": "b23d84a8-fbcd-4ef9-879c-5182a2668a4e",
   "metadata": {},
   "outputs": [],
   "source": [
    "#def linear(x):\n",
    "#    return 3 + 2*x + alfa*np.random.random(len(x))\n",
    "\n",
    "#alfa = 0.9\n",
    "#x = np.linspace(0,10, 100)\n",
    "\n",
    "#y=linear(x)\n",
    "#df = pd.DataFrame({'x':x, 'y':y})\n",
    "#df.to_excel('example2.xlsx', index = False)\n",
    "\n",
    "\n",
    "# Generate data \n",
    "x = np.linspace(0, 50,10)\n",
    "#x = np.array(range(101))\n",
    "alfa = 0.00\n",
    "y = 3 + 2*x + alfa*np.random.random(len(x))\n",
    "\n",
    "X = x.reshape(-1,1)\n",
    "y=y.reshape(-1,1)"
   ]
  },
  {
   "cell_type": "code",
   "execution_count": 14,
   "id": "5b30e17c-09ae-4469-bd9a-0e2b3de6fbb1",
   "metadata": {},
   "outputs": [],
   "source": [
    "#df=pd.read_excel('example2.xlsx')\n",
    "#df.info()"
   ]
  },
  {
   "cell_type": "code",
   "execution_count": 15,
   "id": "df339a57-6500-4535-9040-0154ba8943b3",
   "metadata": {},
   "outputs": [],
   "source": [
    "# split data\n",
    "#X = df[['Vs', 'DEN', 'NEU']]\n",
    "#X = df[['x']] # Use double bracket\n",
    "#y= df['y']"
   ]
  },
  {
   "cell_type": "code",
   "execution_count": 16,
   "id": "79133e52-59a6-4afa-b541-25382b00ddcd",
   "metadata": {},
   "outputs": [],
   "source": [
    "#X_train, X_test, y_train,y_test = train_test_split(X,y, test_size =0.3, shuffle = True)\n",
    "X_train, X_test, y_train,y_test = train_test_split(X,y, test_size =0.7)"
   ]
  },
  {
   "cell_type": "code",
   "execution_count": 17,
   "id": "60bb543b-0edc-45b3-90bb-4cc9a6570848",
   "metadata": {},
   "outputs": [],
   "source": [
    "reg = LinearRegression()\n",
    "reg.fit(X_train,y_train)\n",
    "y_pred=reg.predict(X_test)"
   ]
  },
  {
   "cell_type": "code",
   "execution_count": 18,
   "id": "cb2fea8f-bd2a-4b3d-8532-536e94ebc5f0",
   "metadata": {},
   "outputs": [
    {
     "name": "stdout",
     "output_type": "stream",
     "text": [
      "r2: 1.0\n"
     ]
    }
   ],
   "source": [
    "print('r2:', r2_score(y_test,y_pred))"
   ]
  },
  {
   "cell_type": "code",
   "execution_count": 19,
   "id": "f176c22c-5459-45fd-94dd-912dad3ffcdc",
   "metadata": {},
   "outputs": [
    {
     "name": "stdout",
     "output_type": "stream",
     "text": [
      "[[2.]] [3.]\n"
     ]
    }
   ],
   "source": [
    "print(reg.coef_,reg.intercept_)"
   ]
  },
  {
   "cell_type": "code",
   "execution_count": 20,
   "id": "13130543-bc18-47b3-a0e8-7e52f48f0684",
   "metadata": {},
   "outputs": [
    {
     "data": {
      "text/plain": [
       "<matplotlib.collections.PathCollection at 0x14aa7113a50>"
      ]
     },
     "execution_count": 20,
     "metadata": {},
     "output_type": "execute_result"
    },
    {
     "data": {
      "image/png": "[encoded data removed]",
      "text/plain": [
       "<Figure size 640x480 with 1 Axes>"
      ]
     },
     "metadata": {},
     "output_type": "display_data"
    }
   ],
   "source": [
    "plt.scatter(X_test, y_test)\n",
    "plt.scatter(X_test, y_pred)"
   ]
  },
  {
   "cell_type": "code",
   "execution_count": 21,
   "id": "be8dbf43-38f1-417e-b45c-fa8ad07cdf00",
   "metadata": {},
   "outputs": [
    {
     "name": "stdout",
     "output_type": "stream",
     "text": [
      "r2: 1.0\n",
      "[[2.]] [3.]\n"
     ]
    },
    {
     "data": {
      "text/plain": [
       "<matplotlib.collections.PathCollection at 0x14aa787c7d0>"
      ]
     },
     "execution_count": 21,
     "metadata": {},
     "output_type": "execute_result"
    },
    {
     "data": {
      "image/png": "[encoded data removed]",
      "text/plain": [
       "<Figure size 640x480 with 1 Axes>"
      ]
     },
     "metadata": {},
     "output_type": "display_data"
    }
   ],
   "source": [
    "import pandas as pd\n",
    "import numpy as np\n",
    "import matplotlib.pyplot as plt\n",
    "from sklearn.model_selection import train_test_split\n",
    "from sklearn.linear_model import LinearRegression # has .fit() to fit model and compute coeff. and .predict () to pred y for xtest\n",
    "from sklearn.metrics import mean_squared_error, r2_score\n",
    "\n",
    "#Generate Data\n",
    "x = np.linspace(0, 50,1200)\n",
    "#x = np.array(range(101))\n",
    "alfa = 0.00\n",
    "y = 3 + 2*x + alfa*np.random.random(len(x))\n",
    "\n",
    "X = x\n",
    "X = x.reshape(-1,1)\n",
    "y=y.reshape(-1,1)\n",
    "\n",
    "# Create DataFrame\n",
    "#df = pd.DataFrame({'x':x, 'y': y})\n",
    "#df.to_excel('Test1.xlsx', index = False)\n",
    "#df = pd.read_excel('Test1.xlsx')\n",
    "#X = x.reshape(-1,1)\n",
    "#X = np.array(df['x']).reshape(-1,1)\n",
    "#y= np.array(df['y']).reshape(-1,1)\n",
    "\n",
    "\n",
    "# Split data\n",
    "X_train, X_test, y_train,y_test = train_test_split(X,y, test_size =0.3)\n",
    "# Model and Predict\n",
    "reg = LinearRegression()\n",
    "reg.fit(X_train,y_train)\n",
    "y_pred=reg.predict(X_test)\n",
    "\n",
    "# Model Performance\n",
    "print('r2:', r2_score(y_test,y_pred))\n",
    "# Print coefficients\n",
    "print(reg.coef_,reg.intercept_)\n",
    "# Plot\n",
    "plt.scatter(X_test, y_test)\n",
    "plt.scatter(X_test, y_pred)\n",
    "#plt.plot(X_test, y_test.mean())"
   ]
  },
  {
   "cell_type": "code",
   "execution_count": 22,
   "id": "75e54119-5af6-40b3-a4e7-3321452d933e",
   "metadata": {},
   "outputs": [
    {
     "data": {
      "text/plain": [
       "array([[0.00000000e+00],\n",
       "       [4.17014178e-02],\n",
       "       [8.34028357e-02],\n",
       "       ...,\n",
       "       [4.99165972e+01],\n",
       "       [4.99582986e+01],\n",
       "       [5.00000000e+01]])"
      ]
     },
     "execution_count": 22,
     "metadata": {},
     "output_type": "execute_result"
    }
   ],
   "source": [
    "X"
   ]
  },
  {
   "cell_type": "code",
   "execution_count": 23,
   "id": "ea3eb64b-465c-4738-bb22-254c320e73e0",
   "metadata": {},
   "outputs": [
    {
     "data": {
      "text/plain": [
       "array([[  3.        ],\n",
       "       [  3.08340284],\n",
       "       [  3.16680567],\n",
       "       ...,\n",
       "       [102.83319433],\n",
       "       [102.91659716],\n",
       "       [103.        ]])"
      ]
     },
     "execution_count": 23,
     "metadata": {},
     "output_type": "execute_result"
    }
   ],
   "source": [
    "y"
   ]
  },
  {
   "cell_type": "code",
   "execution_count": null,
   "id": "47100ea6-d7b6-4123-9381-c511f34dd34d",
   "metadata": {},
   "outputs": [],
   "source": []
  },
  {
   "cell_type": "code",
   "execution_count": null,
   "id": "22dc68d0-69cb-40dc-8d9b-9a4305b28668",
   "metadata": {},
   "outputs": [],
   "source": []
  }
 ],
 "metadata": {
  "kernelspec": {
   "display_name": "Python 3 (ipykernel)",
   "language": "python",
   "name": "python3"
  },
  "language_info": {
   "codemirror_mode": {
    "name": "ipython",
    "version": 3
   },
   "file_extension": ".py",
   "mimetype": "text/x-python",
   "name": "python",
   "nbconvert_exporter": "python",
   "pygments_lexer": "ipython3",
   "version": "3.11.7"
  }
 },
 "nbformat": 4,
 "nbformat_minor": 5
}
